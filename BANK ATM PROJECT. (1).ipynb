{
 "cells": [
  {
   "cell_type": "markdown",
   "id": "5095d506",
   "metadata": {},
   "source": [
    "### Design a program to mimic the operation of using an ATM of a bank. This program should perform the following operation:\n",
    "\n",
    "- Display the menu (\"Check Balance\" , \"Deposit\", \"Withdraw\", \"EXIT\")\n",
    "-   Validate the customer pin. If the customer pin is correct, then it should display \"Welcome! and display the menu, otherwise it can allow customer to try for a maximum of 3 times after which the customer card would be blocked.\n",
    "- Check the current balance of the customer (You can assume customer has zero balance at first)\n",
    "- Deposit money to your account.  Display the message \"Successful deposit!\" and show current balance\n",
    "- Withdraw money from the account and display balance amount. Display the message \"Successful withdrawal!\" if amount to withdraw is possible otherwise \"Insufficient balance!\".\n",
    "- The program should exit when customer presses the EXIT button"
   ]
  },
  {
   "cell_type": "code",
   "execution_count": 149,
   "id": "51ed874e",
   "metadata": {},
   "outputs": [],
   "source": [
    "class Bank_atm():\n",
    "    def __init__(self, name, account_number, account_balance = 0): #initilizing the bank name, account number & account balance\n",
    "        self.name= name\n",
    "        self.account = account_number\n",
    "        self.balance = account_balance\n",
    "    def check_balance(self):  #Defining a function/ method to display the Check Balance menu\n",
    "        print(\"Check Balance\" )\n",
    "    def deposit(self):         #Defining a function/method to display the deposit menu\n",
    "        print(\"Deposit\")\n",
    "    def withdraw(self):       #Defining a function/method to display the withdraw menu\n",
    "        print(\"Withdraw\")\n",
    "    def exit(self):            #Defining a function/method to display the exit menu\n",
    "        print(\"exit\")\n",
    "    def pin_valid(self):       #Defining a function/method to validate the customer pin\n",
    "        pin = 2468\n",
    "        for i in range(3):\n",
    "            enter_pin = int(input(\"Enter your pin\"))\n",
    "            if enter_pin == pin:\n",
    "                print(\"Welcome! Do you want to withdraw or payyour bills or transfer\")\n",
    "            elif enter_pin is not pin:\n",
    "                print(\"try again\")\n",
    "            else:\n",
    "                 print(\"Your card has been blocked\")\n",
    "    def my_balance(self):            #Defining a function/method to display account balance\n",
    "        print(f\"Your account balance is {self.balance}\")\n",
    "        \n",
    "    def deposit_money(self, amount):\n",
    "        self.amount = int(input(\"Enter your deposit\"))\n",
    "        self.balance = self.balance + self.amount\n",
    "        #enter_deposit = int(input(\"Enter your deposit\"))\n",
    "        print(f\"Successful deposit! Your current balance is {self.amount}\")\n",
    "        \n",
    "    def withdraw_money(self):\n",
    "        enter_withdraw = int(input(\"How much do you want to withdraw\"))\n",
    "        if enter_withdraw < self.amount:\n",
    "            print(\"Successful withdrawal!\")\n",
    "        else:\n",
    "                  print(\"Insufficient balance!\")\n",
    "                \n",
    "    def exit_bank(self):\n",
    "        another = input(\"Do you want to do another transaction: Yes or No ? \")\n",
    "        if another == \"Yes\":\n",
    "            print(\"Welcome! Do you want to withdraw or pay your bills or transfer\")\n",
    "        else:\n",
    "            print(\"Thank you for choosing GT! Have a great day!\")\n",
    "    \n",
    "            "
   ]
  },
  {
   "cell_type": "code",
   "execution_count": 150,
   "id": "0b2c2ec8",
   "metadata": {},
   "outputs": [],
   "source": [
    "bank1 = Bank_atm(\"GT\", 1234567, 0)"
   ]
  },
  {
   "cell_type": "code",
   "execution_count": 151,
   "id": "c37e15a2",
   "metadata": {},
   "outputs": [
    {
     "name": "stdout",
     "output_type": "stream",
     "text": [
      "Check Balance\n"
     ]
    }
   ],
   "source": [
    "bank1.check_balance()"
   ]
  },
  {
   "cell_type": "code",
   "execution_count": 152,
   "id": "b78c58ad",
   "metadata": {},
   "outputs": [
    {
     "name": "stdout",
     "output_type": "stream",
     "text": [
      "Enter your pin123\n",
      "try again\n",
      "Enter your pin1234\n",
      "try again\n",
      "Enter your pin2468\n",
      "Welcome! Do you want to withdraw or payyour bills or transfer\n"
     ]
    }
   ],
   "source": [
    "bank1.pin_valid()\n"
   ]
  },
  {
   "cell_type": "code",
   "execution_count": 153,
   "id": "576b0bb5",
   "metadata": {},
   "outputs": [
    {
     "name": "stdout",
     "output_type": "stream",
     "text": [
      "Your account balance is 0\n"
     ]
    }
   ],
   "source": [
    "bank1.my_balance()"
   ]
  },
  {
   "cell_type": "code",
   "execution_count": 154,
   "id": "7ea4c8cd",
   "metadata": {},
   "outputs": [
    {
     "name": "stdout",
     "output_type": "stream",
     "text": [
      "Enter your deposit7000\n",
      "Successful deposit! Your current balance is 7000\n"
     ]
    }
   ],
   "source": [
    "bank1.deposit_money(7000)"
   ]
  },
  {
   "cell_type": "code",
   "execution_count": 155,
   "id": "231c3f85",
   "metadata": {},
   "outputs": [
    {
     "name": "stdout",
     "output_type": "stream",
     "text": [
      "How much do you want to withdraw6500\n",
      "Successful withdrawal!\n"
     ]
    }
   ],
   "source": [
    "bank1.withdraw_money()"
   ]
  },
  {
   "cell_type": "code",
   "execution_count": 156,
   "id": "f6de81c2",
   "metadata": {},
   "outputs": [
    {
     "name": "stdout",
     "output_type": "stream",
     "text": [
      "Do you want to do another transaction: Yes or No ? No\n",
      "Thank you for choosing GT! Have a great day!\n"
     ]
    }
   ],
   "source": [
    "bank1.exit_bank()"
   ]
  },
  {
   "cell_type": "code",
   "execution_count": null,
   "id": "e551c71d",
   "metadata": {},
   "outputs": [],
   "source": []
  },
  {
   "cell_type": "code",
   "execution_count": null,
   "id": "6844eced",
   "metadata": {},
   "outputs": [],
   "source": []
  }
 ],
 "metadata": {
  "kernelspec": {
   "display_name": "Python 3 (ipykernel)",
   "language": "python",
   "name": "python3"
  },
  "language_info": {
   "codemirror_mode": {
    "name": "ipython",
    "version": 3
   },
   "file_extension": ".py",
   "mimetype": "text/x-python",
   "name": "python",
   "nbconvert_exporter": "python",
   "pygments_lexer": "ipython3",
   "version": "3.9.12"
  }
 },
 "nbformat": 4,
 "nbformat_minor": 5
}
